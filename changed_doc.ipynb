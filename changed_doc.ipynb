{
 "cells": [
  {
   "cell_type": "markdown",
   "id": "11570745",
   "metadata": {},
   "source": [
    "## FINAL MACHINING PROJECT"
   ]
  },
  {
   "cell_type": "code",
   "execution_count": 2,
   "id": "c063c6e9",
   "metadata": {},
   "outputs": [],
   "source": [
    "import pandas as pd\n",
    "import numpy as np\n",
    "import warnings\n",
    "\n",
    "warnings.filterwarnings(\"ignore\")\n",
    "warnings.filterwarnings(\"ignore\", category=DeprecationWarning)"
   ]
  },
  {
   "cell_type": "code",
   "execution_count": 3,
   "id": "d88cfff7",
   "metadata": {},
   "outputs": [
    {
     "data": {
      "text/html": [
       "<div>\n",
       "<style scoped>\n",
       "    .dataframe tbody tr th:only-of-type {\n",
       "        vertical-align: middle;\n",
       "    }\n",
       "\n",
       "    .dataframe tbody tr th {\n",
       "        vertical-align: top;\n",
       "    }\n",
       "\n",
       "    .dataframe thead th {\n",
       "        text-align: right;\n",
       "    }\n",
       "</style>\n",
       "<table border=\"1\" class=\"dataframe\">\n",
       "  <thead>\n",
       "    <tr style=\"text-align: right;\">\n",
       "      <th></th>\n",
       "      <th>dissimilarity_0</th>\n",
       "      <th>dissimilarity_45</th>\n",
       "      <th>dissimilarity_90</th>\n",
       "      <th>dissimilarity_135</th>\n",
       "      <th>correlation_0</th>\n",
       "      <th>correlation_45</th>\n",
       "      <th>correlation_90</th>\n",
       "      <th>correlation_135</th>\n",
       "      <th>homogeneity_0</th>\n",
       "      <th>homogeneity_45</th>\n",
       "      <th>...</th>\n",
       "      <th>contrast_135</th>\n",
       "      <th>ASM_0</th>\n",
       "      <th>ASM_45</th>\n",
       "      <th>ASM_90</th>\n",
       "      <th>ASM_135</th>\n",
       "      <th>energy_0</th>\n",
       "      <th>energy_45</th>\n",
       "      <th>energy_90</th>\n",
       "      <th>energy_135</th>\n",
       "      <th>label</th>\n",
       "    </tr>\n",
       "  </thead>\n",
       "  <tbody>\n",
       "    <tr>\n",
       "      <th>0</th>\n",
       "      <td>17.216435</td>\n",
       "      <td>21.119725</td>\n",
       "      <td>20.889887</td>\n",
       "      <td>21.543330</td>\n",
       "      <td>0.491436</td>\n",
       "      <td>0.390284</td>\n",
       "      <td>0.389736</td>\n",
       "      <td>0.378055</td>\n",
       "      <td>0.932486</td>\n",
       "      <td>0.917179</td>\n",
       "      <td>...</td>\n",
       "      <td>5493.549025</td>\n",
       "      <td>0.804286</td>\n",
       "      <td>0.788199</td>\n",
       "      <td>0.790551</td>\n",
       "      <td>0.786816</td>\n",
       "      <td>0.896820</td>\n",
       "      <td>0.887806</td>\n",
       "      <td>0.889129</td>\n",
       "      <td>0.887027</td>\n",
       "      <td>3333</td>\n",
       "    </tr>\n",
       "    <tr>\n",
       "      <th>1</th>\n",
       "      <td>12.143708</td>\n",
       "      <td>15.748918</td>\n",
       "      <td>14.495192</td>\n",
       "      <td>15.859307</td>\n",
       "      <td>0.504656</td>\n",
       "      <td>0.375442</td>\n",
       "      <td>0.414030</td>\n",
       "      <td>0.371065</td>\n",
       "      <td>0.952378</td>\n",
       "      <td>0.938240</td>\n",
       "      <td>...</td>\n",
       "      <td>4044.123377</td>\n",
       "      <td>0.858505</td>\n",
       "      <td>0.843167</td>\n",
       "      <td>0.849379</td>\n",
       "      <td>0.842788</td>\n",
       "      <td>0.926556</td>\n",
       "      <td>0.918241</td>\n",
       "      <td>0.921618</td>\n",
       "      <td>0.918035</td>\n",
       "      <td>3333</td>\n",
       "    </tr>\n",
       "    <tr>\n",
       "      <th>2</th>\n",
       "      <td>17.216435</td>\n",
       "      <td>21.119725</td>\n",
       "      <td>20.889887</td>\n",
       "      <td>21.543330</td>\n",
       "      <td>0.491436</td>\n",
       "      <td>0.390284</td>\n",
       "      <td>0.389736</td>\n",
       "      <td>0.378055</td>\n",
       "      <td>0.932486</td>\n",
       "      <td>0.917179</td>\n",
       "      <td>...</td>\n",
       "      <td>5493.549025</td>\n",
       "      <td>0.804286</td>\n",
       "      <td>0.788199</td>\n",
       "      <td>0.790551</td>\n",
       "      <td>0.786816</td>\n",
       "      <td>0.896820</td>\n",
       "      <td>0.887806</td>\n",
       "      <td>0.889129</td>\n",
       "      <td>0.887027</td>\n",
       "      <td>3333</td>\n",
       "    </tr>\n",
       "  </tbody>\n",
       "</table>\n",
       "<p>3 rows × 25 columns</p>\n",
       "</div>"
      ],
      "text/plain": [
       "   dissimilarity_0  dissimilarity_45  dissimilarity_90  dissimilarity_135  \\\n",
       "0        17.216435         21.119725         20.889887          21.543330   \n",
       "1        12.143708         15.748918         14.495192          15.859307   \n",
       "2        17.216435         21.119725         20.889887          21.543330   \n",
       "\n",
       "   correlation_0  correlation_45  correlation_90  correlation_135  \\\n",
       "0       0.491436        0.390284        0.389736         0.378055   \n",
       "1       0.504656        0.375442        0.414030         0.371065   \n",
       "2       0.491436        0.390284        0.389736         0.378055   \n",
       "\n",
       "   homogeneity_0  homogeneity_45  ...  contrast_135     ASM_0    ASM_45  \\\n",
       "0       0.932486        0.917179  ...   5493.549025  0.804286  0.788199   \n",
       "1       0.952378        0.938240  ...   4044.123377  0.858505  0.843167   \n",
       "2       0.932486        0.917179  ...   5493.549025  0.804286  0.788199   \n",
       "\n",
       "     ASM_90   ASM_135  energy_0  energy_45  energy_90  energy_135  label  \n",
       "0  0.790551  0.786816  0.896820   0.887806   0.889129    0.887027   3333  \n",
       "1  0.849379  0.842788  0.926556   0.918241   0.921618    0.918035   3333  \n",
       "2  0.790551  0.786816  0.896820   0.887806   0.889129    0.887027   3333  \n",
       "\n",
       "[3 rows x 25 columns]"
      ]
     },
     "execution_count": 3,
     "metadata": {},
     "output_type": "execute_result"
    }
   ],
   "source": [
    "df=pd.read_csv(\"MAlayalam_char_glcm_features.csv\")\n",
    "df.drop(\"fname\",axis=1,inplace=True)\n",
    "df.head(3)"
   ]
  },
  {
   "cell_type": "markdown",
   "id": "c0403010",
   "metadata": {},
   "source": [
    "### Understanding about the dataframe"
   ]
  },
  {
   "cell_type": "code",
   "execution_count": 4,
   "id": "17d8fe92",
   "metadata": {},
   "outputs": [
    {
     "name": "stdout",
     "output_type": "stream",
     "text": [
      "Number of columns: 25\n",
      "The shape of the data frame is : (3287, 25)\n",
      "Unique value counts in 'Label' :  48\n"
     ]
    }
   ],
   "source": [
    "def information(df):\n",
    "    # Finding the numbers of columns\n",
    "\n",
    "    num_columns = len(df.columns)\n",
    "    print(\"Number of columns:\", num_columns)\n",
    "\n",
    "    # Shape of data frame\n",
    "    print(f\"The shape of the data frame is : {df.shape}\")\n",
    "\n",
    "    # The number of Unique values in label\n",
    "    unique_counts = df[\"label\"].value_counts()\n",
    "    print(f\"Unique value counts in 'Label' :  {len(unique_counts)}\")\n",
    "    \n",
    "\n",
    "information(df)\n"
   ]
  },
  {
   "cell_type": "markdown",
   "id": "b282d7bd",
   "metadata": {},
   "source": [
    "### Count of each label in dataframe"
   ]
  },
  {
   "cell_type": "code",
   "execution_count": 3,
   "id": "1aa7d6cc",
   "metadata": {},
   "outputs": [
    {
     "name": "stdout",
     "output_type": "stream",
     "text": [
      "3362    160\n",
      "3361    160\n",
      "3360    160\n",
      "3359    160\n",
      "3357    138\n",
      "3355    135\n",
      "3358    132\n",
      "3350    124\n",
      "3352    116\n",
      "3363    106\n",
      "3333     80\n",
      "3356     80\n",
      "3354     80\n",
      "3353     80\n",
      "3351     80\n",
      "3349     80\n",
      "3346     80\n",
      "3343     80\n",
      "3342     80\n",
      "3337     80\n",
      "3335     80\n",
      "3334     80\n",
      "3377     44\n",
      "3376     43\n",
      "3381     43\n",
      "3366     43\n",
      "3375     42\n",
      "3367     42\n",
      "3365     42\n",
      "3378     42\n",
      "3373     41\n",
      "3374     41\n",
      "3368     40\n",
      "3370     40\n",
      "3364     39\n",
      "3372     37\n",
      "3380     36\n",
      "3379     36\n",
      "3371     36\n",
      "3382     30\n",
      "3451     30\n",
      "3454     30\n",
      "3383     29\n",
      "3384     29\n",
      "3452     29\n",
      "3453     28\n",
      "3385     24\n",
      "3450     20\n",
      "Name: label, dtype: int64\n"
     ]
    }
   ],
   "source": [
    "label_values = list(df['label'].unique())\n",
    "label_counts = df['label'].value_counts()\n",
    "print(label_counts)"
   ]
  },
  {
   "cell_type": "markdown",
   "id": "1527e184",
   "metadata": {},
   "source": [
    "### Evaluation metrics for checking the accuracy"
   ]
  },
  {
   "cell_type": "code",
   "execution_count": 19,
   "id": "a952d7cf",
   "metadata": {},
   "outputs": [],
   "source": [
    "def evaluate_preds(y_true,y_preds):\n",
    "    accuracy = accuracy_score(y_true,y_preds)\n",
    "    precision = precision_score(y_true,y_preds,average='macro')\n",
    "    recall = recall_score(y_true,y_preds,average='macro')\n",
    "    f1 = f1_score(y_true,y_preds,average='macro')\n",
    "    metric_dict = { \"accuracy\"   : round(accuracy,2),\n",
    "                    \"precision\"  : round(precision,2),\n",
    "                    \"recall\"     : round(recall,2),\n",
    "                    \"f1 \"        : round(f1,2)\n",
    "                  }\n",
    "                   \n",
    "    print(f\"Acc        : {accuracy*100:.2f}%\")\n",
    "    print(f\"Precision  : {precision*100:.2f}%\")\n",
    "    print(f\"Recall     : {recall*100:.2f}%\")\n",
    "    print(f\"F1_score   : {f1*100:.2f}%\")\n",
    "    return metric_dict"
   ]
  },
  {
   "cell_type": "code",
   "execution_count": 20,
   "id": "395a8ee7",
   "metadata": {},
   "outputs": [],
   "source": [
    "def cross_fun(clf,x,y):\n",
    "    cv_score=cross_val_score(clf,x,y,cv=5)\n",
    "    print(f\"The cross validation accuracy MEAN is : {np.mean(cv_score)*100:.2f}%\")\n",
    "    print(f\"The cross validation accuracy STD  is : {np.std(cv_score)*100:.2f}\")\n",
    "    "
   ]
  },
  {
   "cell_type": "code",
   "execution_count": null,
   "id": "0716a51a",
   "metadata": {},
   "outputs": [],
   "source": []
  },
  {
   "cell_type": "code",
   "execution_count": 21,
   "id": "2ca9181c",
   "metadata": {},
   "outputs": [],
   "source": [
    "# import all the modules\n",
    "from sklearn.model_selection import train_test_split\n",
    "from sklearn.neighbors import KNeighborsClassifier\n",
    "from sklearn.ensemble import RandomForestClassifier\n",
    "from sklearn.tree import DecisionTreeClassifier\n",
    "from sklearn.neural_network import MLPClassifier\n",
    "from sklearn.svm import SVC\n",
    "from sklearn.naive_bayes import MultinomialNB\n",
    "from sklearn.model_selection import GridSearchCV\n",
    "\n",
    "from sklearn.metrics import accuracy_score,precision_score,recall_score,f1_score\n",
    "from sklearn.model_selection import cross_val_score\n"
   ]
  },
  {
   "cell_type": "markdown",
   "id": "5e70da25",
   "metadata": {},
   "source": [
    "### Use the Smote to remove the imbalance data"
   ]
  },
  {
   "cell_type": "code",
   "execution_count": 22,
   "id": "190fc6af",
   "metadata": {},
   "outputs": [
    {
     "name": "stdout",
     "output_type": "stream",
     "text": [
      "3333    160\n",
      "3334    160\n",
      "3368    160\n",
      "3370    160\n",
      "3371    160\n",
      "3372    160\n",
      "3373    160\n",
      "3374    160\n",
      "3375    160\n",
      "3376    160\n",
      "3377    160\n",
      "3378    160\n",
      "3379    160\n",
      "3380    160\n",
      "3381    160\n",
      "3382    160\n",
      "3383    160\n",
      "3384    160\n",
      "3385    160\n",
      "3450    160\n",
      "3451    160\n",
      "3452    160\n",
      "3453    160\n",
      "3367    160\n",
      "3366    160\n",
      "3365    160\n",
      "3353    160\n",
      "3335    160\n",
      "3337    160\n",
      "3342    160\n",
      "3343    160\n",
      "3346    160\n",
      "3349    160\n",
      "3350    160\n",
      "3351    160\n",
      "3352    160\n",
      "3354    160\n",
      "3364    160\n",
      "3355    160\n",
      "3356    160\n",
      "3357    160\n",
      "3358    160\n",
      "3359    160\n",
      "3360    160\n",
      "3361    160\n",
      "3362    160\n",
      "3363    160\n",
      "3454    160\n",
      "Name: label, dtype: int64\n"
     ]
    }
   ],
   "source": [
    "from imblearn.over_sampling import SMOTE\n",
    "import pandas as pd\n",
    "\n",
    "# Separate Features and Target Variable\n",
    "X = df.drop('label', axis=1)  # Features\n",
    "y = df['label']  # Target variable\n",
    "\n",
    "# Apply SMOTE\n",
    "smote = SMOTE(random_state=42)\n",
    "X_resampled, y_resampled = smote.fit_resample(X, y)\n",
    "\n",
    "# Create a new DataFrame with resampled data\n",
    "resampled_df = pd.DataFrame(X_resampled, columns=X.columns)\n",
    "resampled_df['label'] = y_resampled\n",
    "\n",
    "# Check the class distribution in the new DataFrame\n",
    "print(resampled_df['label'].value_counts())"
   ]
  },
  {
   "cell_type": "markdown",
   "id": "fd934673",
   "metadata": {},
   "source": [
    "### Feature Selection"
   ]
  },
  {
   "cell_type": "code",
   "execution_count": 23,
   "id": "40e307c2",
   "metadata": {},
   "outputs": [],
   "source": [
    "from sklearn.feature_selection import RFE\n",
    "def feature_selection(df,clf):\n",
    "    x = df.drop(columns=['label'])\n",
    "    y = df['label']\n",
    "\n",
    "    num_features_to_select = 5  # You can change this number as needed\n",
    "    rfe = RFE(estimator=clf, n_features_to_select=num_features_to_select)\n",
    "\n",
    "    # Fit RFE to the data\n",
    "    rfe.fit(x, y)\n",
    "\n",
    "    # Get the selected features\n",
    "    selected_features = x.columns[rfe.support_]\n",
    "\n",
    "    # Filter the dataset to keep only the selected features and the target variable\n",
    "    selected_data = df[selected_features.union(['label'])]\n",
    "    \n",
    "    return selected_data"
   ]
  },
  {
   "cell_type": "markdown",
   "id": "95f65bce",
   "metadata": {},
   "source": [
    "## Performing the Hyper parameter Tuning using the GridSearchCv"
   ]
  },
  {
   "cell_type": "code",
   "execution_count": 24,
   "id": "87b259b4",
   "metadata": {},
   "outputs": [],
   "source": [
    "forest_params={'n_estimators': [10, 100, 200],\n",
    "        'max_depth': [None, 5],\n",
    "        'max_features': ['sqrt'],\n",
    "        'min_samples_split': [6],\n",
    "        'min_samples_leaf': [2, 4]}"
   ]
  },
  {
   "cell_type": "code",
   "execution_count": 25,
   "id": "06488bf4",
   "metadata": {},
   "outputs": [],
   "source": [
    "knn_params = {\n",
    "    'n_neighbors': [3, 5, 7],\n",
    "    'weights': ['uniform', 'distance'],\n",
    "    'metric': ['euclidean', 'manhattan']\n",
    "}"
   ]
  },
  {
   "cell_type": "code",
   "execution_count": 26,
   "id": "fb7372cc",
   "metadata": {},
   "outputs": [],
   "source": [
    "decision_tree_params = {\n",
    "    'criterion': ['gini', 'entropy'],\n",
    "    'max_depth': [None, 5, 10, 15],\n",
    "    'min_samples_split': [2, 5, 10],\n",
    "    'min_samples_leaf': [1, 2, 4]\n",
    "}\n"
   ]
  },
  {
   "cell_type": "code",
   "execution_count": 27,
   "id": "ddcbee52",
   "metadata": {},
   "outputs": [],
   "source": [
    "svm_params = {\n",
    "    'C': [0.1, 1, 10],\n",
    "    'kernel': ['linear', 'rbf', 'poly'],\n",
    "    'gamma': ['scale', 'auto']\n",
    "}\n"
   ]
  },
  {
   "cell_type": "code",
   "execution_count": 28,
   "id": "799ad5ee",
   "metadata": {},
   "outputs": [],
   "source": [
    "def model_training(df,clf):\n",
    "    x = df.drop('label', axis=1)# Features\n",
    "    y = df['label']  # Target  \n",
    "\n",
    "    # Splitting the data into train and test sets\n",
    "    x_train, x_test, y_train, y_test = train_test_split(x, y, test_size=0.2, random_state=42)\n",
    "\n",
    "\n",
    "    clf.fit(x_train, y_train)\n",
    "\n",
    "    y_test_preds = clf.predict(x_test.values)\n",
    "    y_train_preds= clf.predict(x_train.values)\n",
    "\n",
    "\n",
    "\n",
    "    print(f\"Report for train data\")\n",
    "    evaluate_preds(y_train,y_train_preds)\n",
    "    print(\"  \")\n",
    "    print(\"  \")\n",
    "    print(\"  \")\n",
    "    print(f\"Report for test data\")\n",
    "    evaluate_preds(y_test,y_test_preds)\n",
    "\n",
    "    print(\" \")\n",
    "    print(\" \")\n",
    "    print(f\"N FOLD SCORE\")\n",
    "    cross_fun(clf,x,y)"
   ]
  },
  {
   "cell_type": "code",
   "execution_count": 35,
   "id": "4a4980cf",
   "metadata": {},
   "outputs": [],
   "source": [
    "### GridSearchCV dataframe"
   ]
  },
  {
   "cell_type": "code",
   "execution_count": 36,
   "id": "91157891",
   "metadata": {},
   "outputs": [],
   "source": [
    "def grid_training(df,clf,params):\n",
    "    x = df.drop('label', axis=1)# Features\n",
    "    y = df['label']  # Target  \n",
    "\n",
    "    # Splitting the data into train and test sets\n",
    "    x_train, x_test, y_train, y_test = train_test_split(x, y, test_size=0.2, random_state=42)\n",
    "     \n",
    "    gs=GridSearchCV(estimator=clf,\n",
    "                         param_grid=params,\n",
    "                         verbose=0)\n",
    "\n",
    "    gs.fit(x_train,y_train)\n",
    "\n",
    "    gs_y_test_preds =gs.predict(x_test.values)\n",
    "    gs_y_train_preds=gs.predict(x_train.values)\n",
    "\n",
    "\n",
    "    print(f\"Report for train data\")\n",
    "    evaluate_preds(y_train,gs_y_train_preds)\n",
    "    print(\"  \")\n",
    "    print(\"  \")\n",
    "    print(\"  \")\n",
    "    print(f\"Report for test data\")\n",
    "    evaluate_preds(y_test,gs_y_test_preds)\n",
    "\n",
    "    print(\" \")\n",
    "    print(\" \")\n",
    "    print(f\"N FOLD SCORE\")\n",
    "    cross_fun(gs,x,y)\n",
    "\n",
    "    print(f\"The best parameters for above model is : \")\n",
    "    print(gs.best_params_)\n"
   ]
  },
  {
   "cell_type": "markdown",
   "id": "ba457c8b",
   "metadata": {},
   "source": [
    "### KNN model"
   ]
  },
  {
   "cell_type": "code",
   "execution_count": 29,
   "id": "58ab5f2c",
   "metadata": {},
   "outputs": [
    {
     "name": "stdout",
     "output_type": "stream",
     "text": [
      "Report for train data\n",
      "Acc        : 60.14%\n",
      "Precision  : 59.41%\n",
      "Recall     : 56.65%\n",
      "F1_score   : 55.20%\n",
      "  \n",
      "  \n",
      "  \n",
      "Report for test data\n",
      "Acc        : 47.72%\n",
      "Precision  : 33.88%\n",
      "Recall     : 38.02%\n",
      "F1_score   : 34.33%\n",
      " \n",
      " \n",
      "N FOLD SCORE\n",
      "The cross validation accuracy MEAN is : nan%\n",
      "The cross validation accuracy STD  is : nan\n"
     ]
    }
   ],
   "source": [
    "knn=KNeighborsClassifier(n_neighbors=5)\n",
    "model_training(df,knn)"
   ]
  },
  {
   "cell_type": "markdown",
   "id": "747ca026",
   "metadata": {},
   "source": [
    "### KNN smote"
   ]
  },
  {
   "cell_type": "code",
   "execution_count": 31,
   "id": "5cdf9fe1",
   "metadata": {},
   "outputs": [
    {
     "name": "stdout",
     "output_type": "stream",
     "text": [
      "Report for train data\n",
      "Acc        : 79.28%\n",
      "Precision  : 77.44%\n",
      "Recall     : 79.15%\n",
      "F1_score   : 77.56%\n",
      "  \n",
      "  \n",
      "  \n",
      "Report for test data\n",
      "Acc        : 73.24%\n",
      "Precision  : 72.01%\n",
      "Recall     : 73.81%\n",
      "F1_score   : 72.04%\n",
      " \n",
      " \n",
      "N FOLD SCORE\n",
      "The cross validation accuracy MEAN is : nan%\n",
      "The cross validation accuracy STD  is : nan\n"
     ]
    }
   ],
   "source": [
    "knn=KNeighborsClassifier(n_neighbors=5)\n",
    "model_training(resampled_df,knn)"
   ]
  },
  {
   "cell_type": "markdown",
   "id": "36b29049",
   "metadata": {},
   "source": [
    "### KNN feature selection + smote"
   ]
  },
  {
   "cell_type": "code",
   "execution_count": 34,
   "id": "78357651",
   "metadata": {},
   "outputs": [
    {
     "name": "stdout",
     "output_type": "stream",
     "text": [
      "Report for train data\n",
      "Acc        : 80.06%\n",
      "Precision  : 78.16%\n",
      "Recall     : 79.96%\n",
      "F1_score   : 78.31%\n",
      "  \n",
      "  \n",
      "  \n",
      "Report for test data\n",
      "Acc        : 75.46%\n",
      "Precision  : 73.68%\n",
      "Recall     : 75.77%\n",
      "F1_score   : 73.82%\n",
      " \n",
      " \n",
      "N FOLD SCORE\n",
      "The cross validation accuracy MEAN is : 74.52%\n",
      "The cross validation accuracy STD  is : 1.61\n"
     ]
    }
   ],
   "source": [
    "knn_df=feature_selection(resampled_df,KNeighborsClassifier(n_neighbors=5))\n",
    "model_training(knn_df,KNeighborsClassifier(n_neighbors=5))"
   ]
  },
  {
   "cell_type": "markdown",
   "id": "a0ac9d5d",
   "metadata": {},
   "source": [
    "### KNN+feature selection + smote + GridSerchCV"
   ]
  },
  {
   "cell_type": "code",
   "execution_count": 37,
   "id": "3a832fc1",
   "metadata": {},
   "outputs": [
    {
     "name": "stdout",
     "output_type": "stream",
     "text": [
      "Report for train data\n",
      "Acc        : 89.70%\n",
      "Precision  : 87.85%\n",
      "Recall     : 89.58%\n",
      "F1_score   : 88.10%\n",
      "  \n",
      "  \n",
      "  \n",
      "Report for test data\n",
      "Acc        : 82.03%\n",
      "Precision  : 80.53%\n",
      "Recall     : 82.41%\n",
      "F1_score   : 80.74%\n",
      " \n",
      " \n",
      "N FOLD SCORE\n",
      "The cross validation accuracy MEAN is : 80.52%\n",
      "The cross validation accuracy STD  is : 1.46\n",
      "The best parameters for above model is : \n",
      "{'metric': 'euclidean', 'n_neighbors': 3, 'weights': 'distance'}\n"
     ]
    }
   ],
   "source": [
    "grid_training(knn_df,KNeighborsClassifier(n_neighbors=5),knn_params)"
   ]
  },
  {
   "cell_type": "markdown",
   "id": "20fe2901",
   "metadata": {},
   "source": [
    "### Random Forest  Model"
   ]
  },
  {
   "cell_type": "code",
   "execution_count": 38,
   "id": "aa64b3ed",
   "metadata": {},
   "outputs": [
    {
     "name": "stdout",
     "output_type": "stream",
     "text": [
      "Report for train data\n",
      "Acc        : 82.08%\n",
      "Precision  : 87.91%\n",
      "Recall     : 89.58%\n",
      "F1_score   : 88.18%\n",
      "  \n",
      "  \n",
      "  \n",
      "Report for test data\n",
      "Acc        : 62.01%\n",
      "Precision  : 64.00%\n",
      "Recall     : 62.14%\n",
      "F1_score   : 59.66%\n",
      " \n",
      " \n",
      "N FOLD SCORE\n",
      "The cross validation accuracy MEAN is : 58.84%\n",
      "The cross validation accuracy STD  is : 2.26\n"
     ]
    }
   ],
   "source": [
    "model = RandomForestClassifier()\n",
    "model_training(df,model)"
   ]
  },
  {
   "cell_type": "markdown",
   "id": "4983a3f9",
   "metadata": {},
   "source": [
    "### RandomForest smote"
   ]
  },
  {
   "cell_type": "code",
   "execution_count": 39,
   "id": "e8dbe8c7",
   "metadata": {},
   "outputs": [
    {
     "name": "stdout",
     "output_type": "stream",
     "text": [
      "Report for train data\n",
      "Acc        : 89.78%\n",
      "Precision  : 87.86%\n",
      "Recall     : 89.58%\n",
      "F1_score   : 88.12%\n",
      "  \n",
      "  \n",
      "  \n",
      "Report for test data\n",
      "Acc        : 82.62%\n",
      "Precision  : 81.76%\n",
      "Recall     : 83.36%\n",
      "F1_score   : 81.72%\n",
      " \n",
      " \n",
      "N FOLD SCORE\n",
      "The cross validation accuracy MEAN is : 83.03%\n",
      "The cross validation accuracy STD  is : 1.57\n"
     ]
    }
   ],
   "source": [
    "model= RandomForestClassifier()\n",
    "model_training(resampled_df,model)"
   ]
  },
  {
   "cell_type": "markdown",
   "id": "2d8ed553",
   "metadata": {},
   "source": [
    "### Random Forest + smote + feature selection"
   ]
  },
  {
   "cell_type": "code",
   "execution_count": 40,
   "id": "33bbf899",
   "metadata": {},
   "outputs": [
    {
     "name": "stdout",
     "output_type": "stream",
     "text": [
      "Report for train data\n",
      "Acc        : 89.78%\n",
      "Precision  : 87.86%\n",
      "Recall     : 89.58%\n",
      "F1_score   : 88.12%\n",
      "  \n",
      "  \n",
      "  \n",
      "Report for test data\n",
      "Acc        : 80.86%\n",
      "Precision  : 79.97%\n",
      "Recall     : 81.45%\n",
      "F1_score   : 79.81%\n",
      " \n",
      " \n",
      "N FOLD SCORE\n",
      "The cross validation accuracy MEAN is : 81.68%\n",
      "The cross validation accuracy STD  is : 1.33\n"
     ]
    }
   ],
   "source": [
    "model_df=feature_selection(resampled_df,model)\n",
    "model_training(model_df,model)"
   ]
  },
  {
   "cell_type": "markdown",
   "id": "b88246ce",
   "metadata": {},
   "source": [
    "###  Random Forest + smote + feature selection + GridSeaechCv"
   ]
  },
  {
   "cell_type": "code",
   "execution_count": 47,
   "id": "29126112",
   "metadata": {},
   "outputs": [
    {
     "name": "stdout",
     "output_type": "stream",
     "text": [
      "Report for train data\n",
      "Acc        : 88.87%\n",
      "Precision  : 86.97%\n",
      "Recall     : 88.68%\n",
      "F1_score   : 87.21%\n",
      "  \n",
      "  \n",
      "  \n",
      "Report for test data\n",
      "Acc        : 79.17%\n",
      "Precision  : 78.20%\n",
      "Recall     : 79.75%\n",
      "F1_score   : 78.05%\n",
      " \n",
      " \n",
      "N FOLD SCORE\n",
      "The cross validation accuracy MEAN is : 80.07%\n",
      "The cross validation accuracy STD  is : 1.97\n",
      "The best parameters for above model is : \n",
      "{'max_depth': None, 'max_features': 'sqrt', 'min_samples_leaf': 2, 'min_samples_split': 6, 'n_estimators': 200}\n"
     ]
    }
   ],
   "source": [
    "grid_training(model_df,model,forest_params)"
   ]
  },
  {
   "cell_type": "markdown",
   "id": "8b93be00",
   "metadata": {},
   "source": [
    "### Decission Trees"
   ]
  },
  {
   "cell_type": "code",
   "execution_count": 42,
   "id": "bcab4ba2",
   "metadata": {},
   "outputs": [
    {
     "name": "stdout",
     "output_type": "stream",
     "text": [
      "Report for train data\n",
      "Acc        : 82.08%\n",
      "Precision  : 87.91%\n",
      "Recall     : 89.58%\n",
      "F1_score   : 88.18%\n",
      "  \n",
      "  \n",
      "  \n",
      "Report for test data\n",
      "Acc        : 58.36%\n",
      "Precision  : 55.42%\n",
      "Recall     : 56.36%\n",
      "F1_score   : 53.88%\n",
      " \n",
      " \n",
      "N FOLD SCORE\n",
      "The cross validation accuracy MEAN is : 55.43%\n",
      "The cross validation accuracy STD  is : 2.04\n"
     ]
    }
   ],
   "source": [
    "des_trees = DecisionTreeClassifier(random_state=42)\n",
    "model_training(df,des_trees)"
   ]
  },
  {
   "cell_type": "markdown",
   "id": "a9b16393",
   "metadata": {},
   "source": [
    "### Decission + smote"
   ]
  },
  {
   "cell_type": "code",
   "execution_count": 43,
   "id": "8a5cf6c1",
   "metadata": {},
   "outputs": [
    {
     "name": "stdout",
     "output_type": "stream",
     "text": [
      "Report for train data\n",
      "Acc        : 89.78%\n",
      "Precision  : 87.86%\n",
      "Recall     : 89.58%\n",
      "F1_score   : 88.12%\n",
      "  \n",
      "  \n",
      "  \n",
      "Report for test data\n",
      "Acc        : 76.04%\n",
      "Precision  : 75.01%\n",
      "Recall     : 76.65%\n",
      "F1_score   : 75.03%\n",
      " \n",
      " \n",
      "N FOLD SCORE\n",
      "The cross validation accuracy MEAN is : 75.31%\n",
      "The cross validation accuracy STD  is : 1.07\n"
     ]
    }
   ],
   "source": [
    "model_training(resampled_df,des_trees)"
   ]
  },
  {
   "cell_type": "markdown",
   "id": "2a4957d7",
   "metadata": {},
   "source": [
    "### Decission + smote + FeatureSelection "
   ]
  },
  {
   "cell_type": "code",
   "execution_count": 45,
   "id": "a6ec7d50",
   "metadata": {},
   "outputs": [
    {
     "name": "stdout",
     "output_type": "stream",
     "text": [
      "Report for train data\n",
      "Acc        : 89.78%\n",
      "Precision  : 87.86%\n",
      "Recall     : 89.58%\n",
      "F1_score   : 88.12%\n",
      "  \n",
      "  \n",
      "  \n",
      "Report for test data\n",
      "Acc        : 74.67%\n",
      "Precision  : 73.79%\n",
      "Recall     : 75.11%\n",
      "F1_score   : 73.61%\n",
      " \n",
      " \n",
      "N FOLD SCORE\n",
      "The cross validation accuracy MEAN is : 74.73%\n",
      "The cross validation accuracy STD  is : 1.04\n"
     ]
    }
   ],
   "source": [
    "decission_df=feature_selection(resampled_df,des_trees)\n",
    "model_training(decission_df,des_trees)"
   ]
  },
  {
   "cell_type": "markdown",
   "id": "d769a10f",
   "metadata": {},
   "source": [
    "### Decission + smote + FeatureSelection + GridSearchCv"
   ]
  },
  {
   "cell_type": "code",
   "execution_count": 46,
   "id": "f428d6ec",
   "metadata": {},
   "outputs": [
    {
     "name": "stdout",
     "output_type": "stream",
     "text": [
      "Report for train data\n",
      "Acc        : 89.78%\n",
      "Precision  : 87.86%\n",
      "Recall     : 89.58%\n",
      "F1_score   : 88.12%\n",
      "  \n",
      "  \n",
      "  \n",
      "Report for test data\n",
      "Acc        : 76.69%\n",
      "Precision  : 75.58%\n",
      "Recall     : 77.47%\n",
      "F1_score   : 75.69%\n",
      " \n",
      " \n",
      "N FOLD SCORE\n",
      "The cross validation accuracy MEAN is : 75.34%\n",
      "The cross validation accuracy STD  is : 1.73\n",
      "The best parameters for above model is : \n",
      "{'criterion': 'entropy', 'max_depth': None, 'min_samples_leaf': 1, 'min_samples_split': 2}\n"
     ]
    }
   ],
   "source": [
    "grid_training(decission_df,des_trees,decision_tree_params)"
   ]
  },
  {
   "cell_type": "code",
   "execution_count": null,
   "id": "4d46b8d0",
   "metadata": {},
   "outputs": [],
   "source": []
  },
  {
   "cell_type": "markdown",
   "id": "b29ee475",
   "metadata": {},
   "source": [
    "### SVM model"
   ]
  },
  {
   "cell_type": "code",
   "execution_count": 12,
   "id": "36686591",
   "metadata": {},
   "outputs": [
    {
     "name": "stdout",
     "output_type": "stream",
     "text": [
      "Report for train data\n",
      "Acc        : 28.19%\n",
      "Precision  : 11.96%\n",
      "Recall     : 14.89%\n",
      "F1_score   : 11.00%\n",
      "  \n",
      "  \n",
      "  \n",
      "Report for test data\n",
      "Acc        : 24.92%\n",
      "Precision  : 13.42%\n",
      "Recall     : 14.49%\n",
      "F1_score   : 10.50%\n",
      " \n",
      " \n",
      "N FOLD SCORE\n",
      "The cross validation accuracy MEAN is : 26.35%\n",
      "The cross validation accuracy STD  is : 1.43\n"
     ]
    }
   ],
   "source": [
    "svm = SVC(kernel='rbf', random_state=42)\n",
    "model_training(df,svm)"
   ]
  },
  {
   "cell_type": "markdown",
   "id": "3ff29711",
   "metadata": {},
   "source": [
    "### SVM model + smote"
   ]
  },
  {
   "cell_type": "code",
   "execution_count": null,
   "id": "83348c3f",
   "metadata": {},
   "outputs": [],
   "source": [
    "model_training(re,svm)"
   ]
  },
  {
   "cell_type": "markdown",
   "id": "95d86422",
   "metadata": {},
   "source": [
    "### SVM model + smote + feature selection"
   ]
  },
  {
   "cell_type": "code",
   "execution_count": null,
   "id": "18cf0a44",
   "metadata": {},
   "outputs": [],
   "source": []
  },
  {
   "cell_type": "code",
   "execution_count": null,
   "id": "094d7f8e",
   "metadata": {},
   "outputs": [],
   "source": []
  }
 ],
 "metadata": {
  "kernelspec": {
   "display_name": "Python 3 (ipykernel)",
   "language": "python",
   "name": "python3"
  },
  "language_info": {
   "codemirror_mode": {
    "name": "ipython",
    "version": 3
   },
   "file_extension": ".py",
   "mimetype": "text/x-python",
   "name": "python",
   "nbconvert_exporter": "python",
   "pygments_lexer": "ipython3",
   "version": "3.10.6"
  }
 },
 "nbformat": 4,
 "nbformat_minor": 5
}
